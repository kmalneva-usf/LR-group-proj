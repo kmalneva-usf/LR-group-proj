{
 "cells": [
  {
   "cell_type": "code",
   "execution_count": null,
   "id": "2a8ddd90",
   "metadata": {},
   "outputs": [],
   "source": []
  },
  {
   "cell_type": "code",
   "execution_count": 5,
   "id": "0fdf7727",
   "metadata": {},
   "outputs": [],
   "source": [
    "api_key = '0dc28b35-a549-489d-9333-58225cb2a365'\n",
    "targets = '104'\n",
    "start_date = '2020-01-01'\n",
    "end_date = '2024-12-31'\n",
    "data_items = 'day-precip'\n",
    "\n",
    "url = f\"https://et.water.ca.gov/api/data?appKey={api_key}&targets={targets}&startDate={start_date}&endDate={end_date}&dataItems={data_items}\""
   ]
  },
  {
   "cell_type": "code",
   "execution_count": 6,
   "id": "06d792be",
   "metadata": {},
   "outputs": [
    {
     "data": {
      "text/plain": [
       "'https://et.water.ca.gov/api/data?appKey=0dc28b35-a549-489d-9333-58225cb2a365&targets=104&startDate=2020-01-01&endDate=2024-12-31&dataItems=day-precip'"
      ]
     },
     "execution_count": 6,
     "metadata": {},
     "output_type": "execute_result"
    }
   ],
   "source": [
    "url"
   ]
  },
  {
   "cell_type": "code",
   "execution_count": null,
   "id": "c0b453ef",
   "metadata": {},
   "outputs": [],
   "source": [
    "requests.get(url)\n",
    "\n",
    "https://et.water.ca.gov/api/data?appKey=YOUR-APP-KEY&targets=2,8,127&startDate=2010-01-01&endDate=2010-01-05"
   ]
  }
 ],
 "metadata": {
  "kernelspec": {
   "display_name": "LR-env",
   "language": "python",
   "name": "python3"
  },
  "language_info": {
   "codemirror_mode": {
    "name": "ipython",
    "version": 3
   },
   "file_extension": ".py",
   "mimetype": "text/x-python",
   "name": "python",
   "nbconvert_exporter": "python",
   "pygments_lexer": "ipython3",
   "version": "3.12.11"
  }
 },
 "nbformat": 4,
 "nbformat_minor": 5
}
